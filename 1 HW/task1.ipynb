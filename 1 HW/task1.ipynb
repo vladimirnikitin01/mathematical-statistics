{
 "cells": [
  {
   "cell_type": "markdown",
   "metadata": {},
   "source": [
    "# Статистика, DS-поток\n",
    "## Практическое задание 1\n",
    "\n",
    "\n",
    "**Правила:**\n",
    "\n",
    "* Дедлайн **14 сентября 16:00**. После дедлайна работы не принимаются кроме случаев наличия уважительной причины.\n",
    "* Выполненную работу нужно отправить телеграм-боту `@miptstats_ad21_bot`.\n",
    "* Прислать нужно ноутбук в формате `ipynb`.\n",
    "* Решения, размещенные на каких-либо интернет-ресурсах не принимаются. Публикация решения может быть приравнена к предоставлении возможности списать.\n",
    "* Для выполнения задания используйте этот ноутбук в качествие основы, ничего не удаляя из него.\n",
    "* Никакой код из данного задания при проверке запускаться не будет.\n",
    "\n",
    "**Баллы за задание:**\n",
    "\n",
    "* Задача 1 -  10 баллов\n",
    "* Задача 2 -  5 баллов\n",
    "* Задача 3 -  5 баллов\n",
    "\n",
    "**Важность задач:**\n",
    "\n",
    "* *средне-высокая:* задачи 1, 2, 3;"
   ]
  },
  {
   "cell_type": "code",
   "execution_count": 3,
   "metadata": {},
   "outputs": [],
   "source": [
    "import numpy as np\n",
    "import pandas as pd\n",
    "import scipy.stats as sps\n",
    "import matplotlib.pyplot as plt\n",
    "\n",
    "import time\n",
    "\n",
    "%matplotlib inline"
   ]
  },
  {
   "cell_type": "markdown",
   "metadata": {},
   "source": [
    "---\n",
    "## Задача 1."
   ]
  },
  {
   "cell_type": "markdown",
   "metadata": {},
   "source": [
    "Реализуйте метод Монте-Карло и метод прямоугольников численного интегрирования функции. Реализация должна уметь вычислять интеграл вида:\n",
    "$$ \\int\\limits_{l_1}^{h_1} ... \\int\\limits_{l_d}^{h_d} f(x_1, ... , x_d) dx_1 ... dx_d $$"
   ]
  },
  {
   "cell_type": "markdown",
   "metadata": {},
   "source": [
    "*Детали реализации*: на вход функции подаются векторы $l = (l_1, ... , l_d)$ и $h = (h_1, ... ,h_d)$, число $n$ -- максимальное допустимое число вызовов функции $f$ (если вы не делаете лишних вызовов, оно равно числу точек-центров отрезков, прямоугольников, параллелипипедов, и т.д. в многомерных случаях). Использование циклов, кроме циклов по числу интегралов $d$, **наказуемо**."
   ]
  },
  {
   "cell_type": "markdown",
   "metadata": {},
   "source": [
    "Для быстрой работы метода прямоугольников мы будем использовать функцию <a href=\"https://docs.scipy.org/doc/numpy/reference/generated/numpy.meshgrid.html\">`numpy.meshgrid`</a>. Ниже есть пример ее использования. Как всегда, настоятельно советуем читать документацию."
   ]
  },
  {
   "cell_type": "code",
   "execution_count": 4,
   "metadata": {},
   "outputs": [
    {
     "name": "stdout",
     "output_type": "stream",
     "text": [
      "X:  [[5 6]\n",
      " [5 6]\n",
      " [5 6]]\n",
      "Y:  [[-3 -3]\n",
      " [-2 -2]\n",
      " [-1 -1]]\n"
     ]
    },
    {
     "data": {
      "text/plain": [
       "array([[ 5, -3],\n",
       "       [ 6, -3],\n",
       "       [ 5, -2],\n",
       "       [ 6, -2],\n",
       "       [ 5, -1],\n",
       "       [ 6, -1]])"
      ]
     },
     "execution_count": 4,
     "metadata": {},
     "output_type": "execute_result"
    }
   ],
   "source": [
    "# Предположим, мы хотим получить координаты всех целых точек (x, y), \n",
    "# таких, что x лежит в промежутке [5, 6], а y - в промежутке [-3, -1]\n",
    "\n",
    "linspace_x = [5, 6]  \n",
    "linspace_y = [-3, -2, -1]\n",
    "\n",
    "# возвращает матрицы с координатами сетки,\n",
    "# задаваемой проекциями точек на оси координат\n",
    "X, Y = np.meshgrid(linspace_x, linspace_y)\n",
    "\n",
    "print(\"X: \", X)  # linspace_x повторилась len(linspace_y) раз по оси 0\n",
    "print(\"Y: \", Y)  # linspace_y повторилась len(linspace_x) раз по оси 1\n",
    "\n",
    "# преобразуем исходный формат к вектору точек\n",
    "np.stack([X, Y]).reshape(2, -1).T"
   ]
  },
  {
   "cell_type": "code",
   "execution_count": 5,
   "metadata": {},
   "outputs": [],
   "source": [
    "class Integrator:\n",
    "    \n",
    "    @staticmethod\n",
    "    def integrate(f, low, high, n, method=\"rectangle\"):\n",
    "        \"\"\"\n",
    "        Вычисление определенного интеграла.\n",
    "        \n",
    "        Аргументы:\n",
    "        f --- векторная функция d-мерной переменной.\n",
    "            Реализация функции на вход принимает матрицу (n, d),\n",
    "            где n - число точек, в которых нужно вычислить функцию,\n",
    "            а d - размерность пространства переменных.\n",
    "            Функция должна вернуть вектор размерности n.\n",
    "        low, high --- нижние и верхние пределы интегрирования.\n",
    "            Передаются в том же порядке, в котором функция \n",
    "            принимает аргументы).\n",
    "        n --- максимальное число вызовов функции f.\n",
    "        method --- метод (\"rectangle\" или \"monte_carlo\").\n",
    "                            \n",
    "        Возвращает приближенное значение интеграла.\n",
    "        \"\"\"\n",
    "        \n",
    "        assert len(low) == len(high)\n",
    "        low, high = map(np.array, [low, high])\n",
    "        \n",
    "        n = int(n)\n",
    "\n",
    "        return Integrator.methods[method](f, low, high, n)\n",
    "    \n",
    "    \n",
    "    def integrate_monte_carlo(f, low, high, n):\n",
    "        \"\"\"Метод монте-карло\"\"\"\n",
    "        \n",
    "        dim = len(high)\n",
    "        dots =  np.random.uniform(low,high,size=(n,dim))\n",
    "        \n",
    "        diff =  high-low\n",
    "    \n",
    "        \n",
    "        return (f(dots).sum())/n*np.prod(diff)\n",
    "    \n",
    "    \n",
    "    def integrate_rectangle(f, low, high, n):\n",
    "        \"\"\"Метод прямоугольников\"\"\"\n",
    "        \n",
    "        dim = len(high)\n",
    "        \n",
    "        n_rounded =  int(pow(n, 1/dim))\n",
    "        \n",
    "        diff =  (high-low)/n_rounded\n",
    "\n",
    "        centers_of_ranges = np.zeros((dim, n_rounded))\n",
    "        \n",
    "        # для каждой размерности найдите центры отрезков разбиения\n",
    "        for i in range(dim):\n",
    "            array_points=np.linspace(low[i], high[i], n_rounded+1)-diff[i]/2\n",
    "            centers_of_ranges[i]=np.delete(array_points,0)\n",
    "        \n",
    "        centers = np.meshgrid(*centers_of_ranges)\n",
    "        f_vals = f(np.stack(centers).reshape(dim, -1).T)\n",
    "        return f_vals.sum() * np.prod(diff)\n",
    "    \n",
    "    def integrate_rectangle_exact(f, low, high, n):\n",
    "        \"\"\"Метод прямоугольников, но слегка более точный для больших dim\"\"\"\n",
    "        #расстягивает сетку из квадрата до прямуогольника, чтобы кол-во точек было меньше n, но максимально возможным\n",
    "        \n",
    "        dim = len(high)\n",
    "        \n",
    "        n_rounded_min =  pow(n, 1/dim)\n",
    "        n_rounded=np.array([int(n_rounded_min) for i in range(dim)])\n",
    "        \n",
    "        #попробуем увеличить для некоторых плоскостей (где больше диапозон high-low)\n",
    "        array_index_increase=(np.argsort((high-low)))[::-1]\n",
    "        if (n_rounded_min>int(n_rounded_min)):\n",
    "            #значит мы в какой-то плоскости возможно сможем увеличить кол-во точек на 1\n",
    "            prod=np.prod(n_rounded)\n",
    "            for i in range(dim):\n",
    "                prod=prod/n_rounded[array_index_increase[i]]*(n_rounded[array_index_increase[i]]+1)\n",
    "                if (prod<=n):\n",
    "                    n_rounded[array_index_increase[i]]+=1\n",
    "                else:\n",
    "                    break\n",
    "    \n",
    "        diff =  (high-low)/n_rounded\n",
    "        \n",
    "        centers_of_ranges=[]\n",
    "        \n",
    "        # для каждой размерности найдите центры отрезков разбиения\n",
    "        for i in range(dim):\n",
    "            array_points=np.linspace(low[i], high[i], n_rounded[i]+1)-diff[i]/2\n",
    "            centers_of_ranges.append(np.delete(array_points,0))\n",
    "        centers_of_ranges=np.array(centers_of_ranges)\n",
    "        \n",
    "        \n",
    "        centers = np.meshgrid(*centers_of_ranges)\n",
    "        f_vals = f(np.stack(centers).reshape(dim, -1).T)\n",
    "        return f_vals.sum() * np.prod(diff)\n",
    "    \n",
    "    \n",
    "    methods = {\n",
    "        \"rectangle\": integrate_rectangle,\n",
    "        \"monte_carlo\": integrate_monte_carlo,\n",
    "        \"rectangle_exact\":integrate_rectangle_exact\n",
    "    }\n"
   ]
  },
  {
   "cell_type": "markdown",
   "metadata": {},
   "source": [
    "Вычислите $\\int\\limits_0^1 \\int\\limits_3^4 \\left(x^2 + y^2\\right) dxdy$ на миллионе запусков функции $f(x, y) = x^2+y^2$ двумя рассмотренными методами. Измерьте время работы методов и сравните результат с истинными значением интеграла. Различается ли время работы методов? Объясните результаты с точки зрения теории."
   ]
  },
  {
   "cell_type": "code",
   "execution_count": 6,
   "metadata": {},
   "outputs": [],
   "source": [
    "square_sum = lambda x: np.sum(x**2, axis=1)"
   ]
  },
  {
   "cell_type": "code",
   "execution_count": 7,
   "metadata": {},
   "outputs": [
    {
     "name": "stdout",
     "output_type": "stream",
     "text": [
      "Время вычисления интеграла методом прямоугольника равно 0.03490614891052246 секунд.\n",
      "Интеграл=12.6666665\n"
     ]
    }
   ],
   "source": [
    "count=10**6\n",
    "integral=Integrator\n",
    "\n",
    "start_time = time.time()\n",
    "res_rectangle=integral.integrate(square_sum,[0,3],[1,4],count)\n",
    "print(\"Время вычисления интеграла методом прямоугольника равно %s секунд.\" % (time.time() - start_time))\n",
    "print(\"Интеграл={}\".format(res_rectangle))"
   ]
  },
  {
   "cell_type": "markdown",
   "metadata": {},
   "source": [
    "Так как сount=1000000,а корень это 1000, то у rectangle нет проблем с окргулением вниз, результат будет совпадать с rectangle_exact"
   ]
  },
  {
   "cell_type": "code",
   "execution_count": 8,
   "metadata": {},
   "outputs": [
    {
     "name": "stdout",
     "output_type": "stream",
     "text": [
      "Время вычисления интеграла методом Монте-Карло равно 0.06583237648010254 секунд.\n",
      "Интеграл=12.663982151381845\n"
     ]
    }
   ],
   "source": [
    "start_time = time.time()\n",
    "res_monte_carlo=integral.integrate(square_sum,[0,3],[1,4],count,\"monte_carlo\")\n",
    "print(\"Время вычисления интеграла методом Монте-Карло равно %s секунд.\" % (time.time() - start_time))\n",
    "print(\"Интеграл={}\".format(res_monte_carlo))"
   ]
  },
  {
   "attachments": {
    "photo_2021-09-13_09-09-25.jpg": {
     "image/jpeg": "[encoded data removed]"
    }
   },
   "cell_type": "markdown",
   "metadata": {},
   "source": [
    "![photo_2021-09-13_09-09-25.jpg](attachment:photo_2021-09-13_09-09-25.jpg)"
   ]
  },
  {
   "cell_type": "code",
   "execution_count": 9,
   "metadata": {},
   "outputs": [
    {
     "name": "stdout",
     "output_type": "stream",
     "text": [
      "abs(correct_res-res_rectangle)=1.6666666624587378e-07\n",
      "abs(correct_res-res_monte_carlo)=0.002684515284821387\n"
     ]
    }
   ],
   "source": [
    "#Мы вычислили нужный нам интеграл с помощью вольфрама, получили ответ 38/3. \n",
    "#Cравним результаты\n",
    "correct_res=38/3\n",
    "print(\"abs(correct_res-res_rectangle)={}\".format(abs(correct_res-res_rectangle)))\n",
    "print(\"abs(correct_res-res_monte_carlo)={}\".format(abs(correct_res-res_monte_carlo)))"
   ]
  },
  {
   "cell_type": "markdown",
   "metadata": {},
   "source": [
    "**Вывод** Как мы заметили, метод прямоугольников дает более в разы более точный ответ, также метод Монте-Карло зависит от распределения точек, соответсвенно на разном разбиении он будет показывать разные ответы.\n",
    "Также нам известно из теории, что при больших размерностях метод Монте-Карло будет работать быстрее методотов прямоугольников (будет быстрее сгенерировать точки, чем разбивать на отрезки и затем искать их середины).\n",
    "Но при наших условиях, метод Монте-Карло работает намного медленнее.\n",
    "Это может бысть связано с тем, что размерность d=2 маленькая и нам некритично искать середины отрезков, в то время как генерировать точки в Монте-Карло довольно затратно. Так как при любом d, генерация точек в Монте-Карло зависит только от их количества, в то время, как в методе прямоугольников генерация середин отрезков и самих отрезков(diff) зависит от размерности пространства ($n_{rounded}^d=n$)"
   ]
  },
  {
   "cell_type": "markdown",
   "metadata": {},
   "source": [
    "---\n",
    "## Задача 2."
   ]
  },
  {
   "cell_type": "markdown",
   "metadata": {},
   "source": [
    "Для $d = 1...8$ оцените скорость сходимости методов для интеграла\n",
    "$$\\int\\limits_0^1 ... \\int\\limits_0^1 \\sum_{i=1}^{d} x_i^2 \\prod_{i=1}^{d}dx_i$$\n",
    "\n",
    "Т.е. $\\int\\limits_0^1 x_1^2 dx_1$, $\\int\\limits_0^1 \\int\\limits_0^1 \\left( x_1^2 + x_2^2 \\right) dx_1 dx_2$ и так далее.\n",
    "\n",
    "Вычислите точное значение этого интеграла и для каждого $d$ постройте график зависимости вычисленного значения интеграла от числа $n$ вызовов подынтегральной функции (в корректном решении равно числу точек-центров), которое разрешено использовать для каждого метода вычисления интеграла. Рекомендуется рассмотреть значения $n$ вплоть до $d \\times 1000$."
   ]
  },
  {
   "cell_type": "markdown",
   "metadata": {},
   "source": [
    "Для вашего удобства, мы написали функцию, которая строит графики в этой задаче."
   ]
  },
  {
   "cell_type": "code",
   "execution_count": 10,
   "metadata": {},
   "outputs": [],
   "source": [
    "max_dim = 8\n",
    "\n",
    "\n",
    "def plot_convergence(f, low, high, n_list, theoretical_value, max_dim):\n",
    "    \"\"\"\n",
    "    Построение графиков сходимости методов Монте-Карло и прямоугольников.\n",
    "    \n",
    "    Аргументы:\n",
    "        f --- векторная функция d-мерной переменной.\n",
    "            Реализация функции на вход принимает матрицу (n, d),\n",
    "            где n - число точек, в которых нужно вычислить функцию,\n",
    "            а d - размерность пространства переменных.\n",
    "            Функция должна вернуть вектор размерности n.\n",
    "        low, high --- нижние и верхние пределы интегрирования.\n",
    "            Передаются в том же порядке, в котором функция \n",
    "            принимает аргументы).\n",
    "    n_list --- список.\n",
    "    theoretical_value --- точное значение интеграла.\n",
    "    max_dim --- максимальная кратность интеграла.\n",
    "    \"\"\"\n",
    "    \n",
    "    source = np.arange(max_dim) + 1\n",
    "    i = Integrator()\n",
    "    \n",
    "    for d in source:\n",
    "        rectangles_computed = np.zeros(len(n_list))\n",
    "        monte_carlo_computed = np.zeros(len(n_list))\n",
    "        \n",
    "        rectangle_exact_computed=np.zeros(len(n_list))\n",
    "        \n",
    "        for n in np.arange(len(n_list)):\n",
    "            mn = i.integrate(f, low[:d], high[:d], n_list[n],\n",
    "                             method=\"monte_carlo\")\n",
    "            rc = i.integrate(f, low[:d], high[:d], n_list[n])\n",
    "            \n",
    "            rce=i.integrate(f, low[:d], high[:d], n_list[n],\n",
    "                             method=\"rectangle_exact\")\n",
    "            \n",
    "            monte_carlo_computed[n] = mn\n",
    "            rectangles_computed[n] = rc\n",
    "            rectangle_exact_computed[n]=rce\n",
    "        plt.figure(figsize=(15, 5))\n",
    "        plt.title('Зависимость вычисленного значения интеграла' +\n",
    "                  ' от n для d = {}'.format(d), fontsize=14)      \n",
    "        plt.xlabel(\"Число вызовов функции\", fontsize=14)\n",
    "        plt.ylabel(\"Значение интеграла\", fontsize=14)\n",
    "        plt.plot(n_list, monte_carlo_computed, color='blue',\n",
    "                 label=\"по методу Монте-Карло\")\n",
    "        plt.plot(n_list, rectangles_computed, color='magenta',\n",
    "                 label=\"по методу прямоугольников\")\n",
    "        plt.axhline(y=theoretical_value[d - 1], color='indigo',\n",
    "                    linestyle='--', label=\"истинное значение\")\n",
    "        \n",
    "        #добавляю свой метод прямоугольника, который должен быть более точным\n",
    "        plt.plot(n_list, rectangle_exact_computed, color='green',\n",
    "                 label=\"по методу прямоугольников(более точная реализация)\")\n",
    "        \n",
    "        plt.legend(fontsize=14)"
   ]
  },
  {
   "cell_type": "code",
   "execution_count": null,
   "metadata": {
    "scrolled": false
   },
   "outputs": [
    {
     "name": "stderr",
     "output_type": "stream",
     "text": [
      "<ipython-input-5-cdd8c27e7bc7>:92: VisibleDeprecationWarning: Creating an ndarray from ragged nested sequences (which is a list-or-tuple of lists-or-tuples-or ndarrays with different lengths or shapes) is deprecated. If you meant to do this, you must specify 'dtype=object' when creating the ndarray.\n",
      "  centers_of_ranges=np.array(centers_of_ranges)\n",
      "<ipython-input-5-cdd8c27e7bc7>:92: VisibleDeprecationWarning: Creating an ndarray from ragged nested sequences (which is a list-or-tuple of lists-or-tuples-or ndarrays with different lengths or shapes) is deprecated. If you meant to do this, you must specify 'dtype=object' when creating the ndarray.\n",
      "  centers_of_ranges=np.array(centers_of_ranges)\n"
     ]
    }
   ],
   "source": [
    "low=np.zeros(max_dim)\n",
    "high=np.ones(max_dim)\n",
    "theoretical_value=np.arange(1/3,8/3+1,1/3)#вольфрам\n",
    "n_list=np.arange(10,max_dim*1000)\n",
    "\n",
    "plot_convergence(square_sum,low,high,n_list,theoretical_value,max_dim)"
   ]
  },
  {
   "cell_type": "markdown",
   "metadata": {},
   "source": [
    "Какой метод и при каких $d$ сходится быстрее? Предположите, в каком случае выгоднее использовать тот или иной метод."
   ]
  },
  {
   "cell_type": "markdown",
   "metadata": {},
   "source": [
    "С чем связано такое поведение графиков?"
   ]
  },
  {
   "cell_type": "markdown",
   "metadata": {},
   "source": [
    "Сравните результаты с предыдущей задачей."
   ]
  },
  {
   "cell_type": "markdown",
   "metadata": {},
   "source": [
    "**Вывод:** При d=1,2,3 метод прямоугольника сходится быстрее и он более близок к истинному значению. Но затем при увеличении d метод прямоугольника значительно проигрывает Монте-Карло. Причем это заключается не только в скорости \"схождения\", но и в точности. Это связано с тем, что в Монте-Карло мы всегда берем ровно n точек, а в методе прямоугольников в одной плокости мы берем $n^{1/d}$ точек, что  мало (по сравнению с Монте-Карло) и тогда неточный результат получается. Также прекрасно видно, что Монте-Карло всегда хватает достаточно маленьких n, чтобы приблиться к истинному значению, в то время, как методу прямоугольников нужно больше точек для хорошей точности.\n",
    "\n",
    "Также я нарисовал (зеленый) метод прямоугольников, который слегка более точный (использует больше точек), это дает улучшение, но не всегда и негромадное. Оно слегка улучшает обычный метод прямоугольников, но не приближает его к результатам Монте-Карло, так как оно разные по идеи.\n",
    "\n",
    "В 1 задаче у нас было 1000000 точек и d=2, то есть 1000 точек в одной плоскости, тут же <=8000 точек, а 1<=d<=8, намного меньше точек в одной плоскости получается. Поэтому такие разные результаты в 1 и во 2 номере.\n",
    "    \n",
    "   \n",
    " Получается, что для оценки значения интеграла (довольно точного, так как сходится уже при маленьких n) лучше использовать метод Монте-Карло, в остальных случаях метод прямоугольника. То есть ли у нас есть большое количество точек, но мы сможем получить хороший гарантированный результат с помощью метода прямоугольника, хоть и за более большое время. "
   ]
  },
  {
   "cell_type": "markdown",
   "metadata": {},
   "source": [
    "---\n",
    "## Задача 3."
   ]
  },
  {
   "cell_type": "markdown",
   "metadata": {},
   "source": [
    "Вам предлагается численно посчитать многомерный интеграл Пуассона для размерности $d=5$ и некоторой симметричной положительно определенной матрицы $A$, которую вы выберете сами. Зависит ли интеграл от выбора $A$? \n",
    "$$\\int\\limits_{\\mathbb{R}^d} exp( - x^T A x) dx $$\n",
    "\n",
    "Сравните результаты двух методов с истинным значением интеграла. Как вы думаете, какой метод выдает более точный результат? Количество итераций каждого метода должно быть не менее $10^6$. Теоретическое вычисление интеграла можно не приводить, достаточно написать ответ."
   ]
  },
  {
   "cell_type": "markdown",
   "metadata": {},
   "source": [
    "**Комментарий:** В этой задаче особенно важно выбрать правильные пределы интегрирования. \n",
    "Например, для единичной матрицы достаточно взять интеграл с пределами внутри области $[-5, 5]^5$\n",
    "\n",
    "В связи с этим просим Вас ответить на наводящие вопросы. \n",
    "1. Что будет, если выбрать слишком большие пределы в методе Монте-Карло? \n",
    "2. Что может произойти, если выбрать слишком большие пределы в методе прямоугольников?"
   ]
  },
  {
   "cell_type": "markdown",
   "metadata": {},
   "source": [
    "В этой задаче нельзя использовать циклы. Для вычисления функции в точках используете простые векторно-матричные операции в `numpy`."
   ]
  },
  {
   "cell_type": "code",
   "execution_count": 211,
   "metadata": {},
   "outputs": [
    {
     "data": {
      "text/plain": [
       "17.4934183275526"
      ]
     },
     "execution_count": 211,
     "metadata": {},
     "output_type": "execute_result"
    }
   ],
   "source": [
    "#возмем A=diag(1,1,1,1,1)\n",
    "#тогда интеграл будет задаваться такой формулой\n",
    "gaussian_integral = lambda x: np.prod(np.exp(-(x**2)), axis=1)\n",
    "count=10**7\n",
    "low=np.array([-5,-5,-5,-5,-5])\n",
    "high=np.array([5,5,5,5,5])\n",
    "res_rectangle=integral.integrate(gaussian_integral,low,high,count)\n",
    "res_rectangle"
   ]
  },
  {
   "cell_type": "code",
   "execution_count": 212,
   "metadata": {
    "scrolled": true
   },
   "outputs": [
    {
     "data": {
      "text/plain": [
       "17.726660797490336"
      ]
     },
     "execution_count": 212,
     "metadata": {},
     "output_type": "execute_result"
    }
   ],
   "source": [
    "res_monte_carlo=integral.integrate(gaussian_integral,low,high,count, \"monte_carlo\")\n",
    "res_monte_carlo"
   ]
  },
  {
   "cell_type": "code",
   "execution_count": 213,
   "metadata": {
    "scrolled": false
   },
   "outputs": [
    {
     "name": "stdout",
     "output_type": "stream",
     "text": [
      "abs(reference_solution-res_rectangle)=6.221512194315437e-11\n",
      "abs(reference_solution-res_monte_carlo)=0.23324246999995069\n"
     ]
    }
   ],
   "source": [
    "import math\n",
    "#Эталонное значение равно 17.493418327490385\n",
    "reference_solution=(math.erf(5)*math.sqrt(math.pi))**5\n",
    "\n",
    "print(\"abs(reference_solution-res_rectangle)={}\".format(abs(reference_solution-res_rectangle)))\n",
    "print(\"abs(reference_solution-res_monte_carlo)={}\".format(abs(reference_solution-res_monte_carlo)))"
   ]
  },
  {
   "cell_type": "markdown",
   "metadata": {},
   "source": [
    "**Вывод** Конечно интеграл зависит от матрицы A, это понятно, так как x^TAx скаляр, а вот коэффиенты его координат зависят от А, также мы можем посчитать теориетически значение данного интеграла. Так как можно заметить, что это похоже на плотность нормального распределения.\n",
    "\n",
    "Видно, что метод прямоугольника на много разрядов точнее, так как у нас размерность всего 5, а точек и мы используем много (нет проблем 2 задачи).\n"
   ]
  },
  {
   "cell_type": "code",
   "execution_count": 214,
   "metadata": {},
   "outputs": [
    {
     "name": "stdout",
     "output_type": "stream",
     "text": [
      "Результаты res_rectangle и res_monte_carlo равны, соответственно 10240000000000.0 и 0.0\n"
     ]
    }
   ],
   "source": [
    "#Теперь рассмотрим, что будет, если выбрать слишком большой диапазон\n",
    "low*=1000\n",
    "high*=1000\n",
    "res_rectangle=integral.integrate(gaussian_integral,low,high,count)\n",
    "res_monte_carlo=integral.integrate(gaussian_integral,low,high,count, \"monte_carlo\")\n",
    "print(\"Результаты res_rectangle и res_monte_carlo равны, соответственно\",res_rectangle,\"и\",res_monte_carlo)"
   ]
  },
  {
   "cell_type": "markdown",
   "metadata": {},
   "source": [
    "Как видно, значение метода прямоугольника стремятся к бесконечности (большому числу), в то время, как у Монте-Карло стремится к 0.\n",
    "Давайте объясню это, для начала надо рассмотреть $$exp(-x^2).$$\n",
    "\n",
    "Если нарисовать график, то мы увидим \"холмик\" при x от -2 до 2, в остальных тчоках функция будет стремиться к 0. То есть наша функция почти во всех точках стремится к 0, кроме довольно узкой области, где значения сильно отличаются от 0.\n",
    "\n",
    "В методе Монте-Карло из-за равномерного распределения, мы получим, что малое количество точек сможет попасть в нужную узкую область, тогда функция в большинстве точек будет принимать значение около 0, и весь интеграл тоже будет стремиться к 0.\n",
    "\n",
    "В это же время, в методе прямоугольника мы делим нашу область на равные части, то есть мы гарантируем, что часть точек попадет в узкую область, также у нас в интеграле есть коэффициент $np.prod(diff)$, а так мы берем большой диапазон, то и этот коэффициент будет большим, из-за этого наш результат стремится к бесконечости. "
   ]
  },
  {
   "cell_type": "markdown",
   "metadata": {},
   "source": [
    "Рассмотрим отношение интегралов: \n",
    "$$\n",
    "F(t) = \\frac{ \\int\\limits_{-\\infty}^{t_1} ... \\int\\limits_{-\\infty}^{t_k} exp \\left( - \\frac12 x^T A x \\right) dx}{ \\int\\limits_{\\mathbb{R}^n} exp \\left( - \\frac12 x^T A x \\right) dx}.\n",
    "$$\n",
    "В чем его вероятностный смысл?"
   ]
  },
  {
   "cell_type": "markdown",
   "metadata": {},
   "source": [
    "Если n=k, то это функция распределения многомерного нормального распределения, так как в числители мы берем n интегралов от плотности многомерного нормального распределения, а знаменатель-это нормировка, так как функция распределения должна быть $<=1$. Если же n>k, то это похоже на какую-то хитрую плотность"
   ]
  }
 ],
 "metadata": {
  "kernelspec": {
   "display_name": "Python 3",
   "language": "python",
   "name": "python3"
  },
  "language_info": {
   "codemirror_mode": {
    "name": "ipython",
    "version": 3
   },
   "file_extension": ".py",
   "mimetype": "text/x-python",
   "name": "python",
   "nbconvert_exporter": "python",
   "pygments_lexer": "ipython3",
   "version": "3.8.5"
  },
  "varInspector": {
   "cols": {
    "lenName": 16,
    "lenType": 16,
    "lenVar": 40
   },
   "kernels_config": {
    "python": {
     "delete_cmd_postfix": "",
     "delete_cmd_prefix": "del ",
     "library": "var_list.py",
     "varRefreshCmd": "print(var_dic_list())"
    },
    "r": {
     "delete_cmd_postfix": ") ",
     "delete_cmd_prefix": "rm(",
     "library": "var_list.r",
     "varRefreshCmd": "cat(var_dic_list()) "
    }
   },
   "types_to_exclude": [
    "module",
    "function",
    "builtin_function_or_method",
    "instance",
    "_Feature"
   ],
   "window_display": false
  }
 },
 "nbformat": 4,
 "nbformat_minor": 2
}
